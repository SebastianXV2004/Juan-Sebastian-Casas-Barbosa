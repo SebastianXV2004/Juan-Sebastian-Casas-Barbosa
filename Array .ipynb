{
  "nbformat": 4,
  "nbformat_minor": 0,
  "metadata": {
    "colab": {
      "provenance": []
    },
    "kernelspec": {
      "name": "python3",
      "display_name": "Python 3"
    },
    "language_info": {
      "name": "python"
    }
  },
  "cells": [
    {
      "cell_type": "markdown",
      "source": [
        "**Representacion de la matriz de 3x3 como un Array de 9 elementos y realizacion de las operaciones elementales entre renglones**"
      ],
      "metadata": {
        "id": "Wee1XakAzJVm"
      }
    },
    {
      "cell_type": "code",
      "source": [
        "from array import array\n",
        "import math\n",
        "\n",
        "def elem(A, i, j):\n",
        "    # Verifica que i y j estén en el rango correcto para una matriz 3x3\n",
        "    if i < 0 or i > 2 or j < 0 or j > 2:\n",
        "        raise ValueError(\"Las coordenadas están fuera de rango para una matriz 3x3\")\n",
        "\n",
        "    # Calcula el índice correspondiente en el array 1D\n",
        "    index = i * 3 + j\n",
        "\n",
        "    # Obtiene el elemento correspondiente del array\n",
        "    element = A[index]\n",
        "\n",
        "    # Maneja casos especiales para infinito y NaN\n",
        "    if math.isinf(element):\n",
        "        return float('inf')\n",
        "    elif math.isnan(element):\n",
        "        return float('nan')\n",
        "    else:\n",
        "        return element\n",
        "\n",
        "def swap_rows(A, i, j):\n",
        "    result = array('f', A)\n",
        "    # Intercambia los elementos de las filas i y j en la matriz 3x3 representada como array\n",
        "    for k in range(3):\n",
        "        result[i*3+k], result[j*3+k] = A[j*3+k], A[i*3+k]\n",
        "    return result\n",
        "\n",
        "def scale_row(A, i, c):\n",
        "    result = array('f', A)\n",
        "    # Multiplica todos los elementos de la fila i por c en la matriz 3x3 representada como array\n",
        "    for k in range(3):\n",
        "        result[i*3+k] *= c\n",
        "    return result\n",
        "\n",
        "def add_scaled_row(A, i, j, c):\n",
        "    result = array('f', A)\n",
        "    # Agrega a la fila i la fila j multiplicada por c en la matriz 3x3 representada como array\n",
        "    for k in range(3):\n",
        "        result[i*3+k] += A[j*3+k] * c\n",
        "    return result\n",
        "\n",
        "# Array\n",
        "Array = array('f', [0, 1, 2, 3, 4, 5, 6, 7, 8])\n",
        "\n",
        "# Comprobacion Aplicando las operaciones elementales\n",
        "\n",
        "# Intercambiar filas 0 y 2  / Operacion 1\n",
        "operacion_1 = swap_rows(Array, 0, 2)\n",
        "\n",
        "# Multiplicar fila 2 por 2 / Operacion 2\n",
        "operacion_2 = scale_row(Array, 2, 2)\n",
        "\n",
        "# Agregar a fila 1 la fila 0 multiplicada por -1 / Operacion 3\n",
        "operacion_3 = add_scaled_row(Array, 1, 0, -1)\n",
        "\n",
        "# Imprimiendo los resultados\n",
        "print(\"Matriz de 3X3 como un array de 9 elementos:\")\n",
        "print(Array)\n",
        "\n",
        "# Operacion 1\n",
        "print(\"\\nIntercambiar filas 0 y 2\")\n",
        "print(operacion_1)\n",
        "\n",
        "# Operacion 2\n",
        "print(\"\\nMultiplicar fila 2 por 2\")\n",
        "print(operacion_2)\n",
        "\n",
        "# Operacion 3\n",
        "print(\"\\nAgregar a fila 1 la fila 0 multiplicada por -1\")\n",
        "print(operacion_3)"
      ],
      "metadata": {
        "colab": {
          "base_uri": "https://localhost:8080/"
        },
        "id": "gWXkXJro21hm",
        "outputId": "c793132f-ade0-4b1a-d51b-14da882b5bf1"
      },
      "execution_count": 43,
      "outputs": [
        {
          "output_type": "stream",
          "name": "stdout",
          "text": [
            "Matriz de 3X3 como un array de 9 elementos:\n",
            "array('f', [0.0, 1.0, 2.0, 3.0, 4.0, 5.0, 6.0, 7.0, 8.0])\n",
            "\n",
            "Intercambiar filas 0 y 2\n",
            "array('f', [6.0, 7.0, 8.0, 3.0, 4.0, 5.0, 0.0, 1.0, 2.0])\n",
            "\n",
            "Multiplicar fila 2 por 2\n",
            "array('f', [0.0, 1.0, 2.0, 3.0, 4.0, 5.0, 12.0, 14.0, 16.0])\n",
            "\n",
            "Agregar a fila 1 la fila 0 multiplicada por -1\n",
            "array('f', [0.0, 1.0, 2.0, 3.0, 3.0, 3.0, 6.0, 7.0, 8.0])\n"
          ]
        }
      ]
    },
    {
      "cell_type": "markdown",
      "source": [
        "**Verificacion de los resultados de las operaciones con sympy**"
      ],
      "metadata": {
        "id": "YNzIYpxS4UuN"
      }
    },
    {
      "cell_type": "code",
      "source": [
        "import sympy as sp\n",
        "\n",
        "# Se define la matriz original\n",
        "Array = sp.Matrix([\n",
        "    [0, 1, 2],\n",
        "    [3, 4, 5],\n",
        "    [6, 7, 8]\n",
        "])\n",
        "\n",
        "# Se crea una copia de la matriz original\n",
        "A = Array.copy()\n",
        "\n",
        "# Comprobacion Aplicando las operaciones elementales\n",
        "print(\"Matriz de 3X3 como un array de 9 elementos:\")\n",
        "print(Array)\n",
        "\n",
        "# Intercambiar filas 0 y 2 / Operacion 1\n",
        "print(\"\\nIntercambiar filas 0 y 2\")\n",
        "A.row_swap(0, 2)\n",
        "print(A)\n",
        "\n",
        "# Se resetea A a la matriz original\n",
        "A = Array.copy()\n",
        "\n",
        "# Multiplicar fila 2 por 2 / Operacion 2\n",
        "print(\"\\nMultiplicar fila 2 por 2\")\n",
        "A[2, :] = 2 * A[2, :]\n",
        "print(A)\n",
        "\n",
        "# Se resetea A a la matriz original\n",
        "A = Array.copy()\n",
        "\n",
        "# Agregar a fila 1 la fila 0 multiplicada por -1 / Operacion 3\n",
        "print(\"\\nAgregar a fila 1 la fila 0 multiplicada por -1\")\n",
        "A[1, :] = A[1, :] + A[0, :] * -1\n",
        "print(A)"
      ],
      "metadata": {
        "colab": {
          "base_uri": "https://localhost:8080/"
        },
        "id": "L-Ko94DQ_szJ",
        "outputId": "7de050d5-ed4b-417c-9efb-df8a06bbf75e"
      },
      "execution_count": 45,
      "outputs": [
        {
          "output_type": "stream",
          "name": "stdout",
          "text": [
            "Matriz de 3X3 como un array de 9 elementos:\n",
            "Matrix([[0, 1, 2], [3, 4, 5], [6, 7, 8]])\n",
            "\n",
            "Intercambiar filas 0 y 2\n",
            "Matrix([[6, 7, 8], [3, 4, 5], [0, 1, 2]])\n",
            "\n",
            "Multiplicar fila 2 por 2\n",
            "Matrix([[0, 1, 2], [3, 4, 5], [12, 14, 16]])\n",
            "\n",
            "Agregar a fila 1 la fila 0 multiplicada por -1\n",
            "Matrix([[0, 1, 2], [3, 3, 3], [6, 7, 8]])\n"
          ]
        }
      ]
    },
    {
      "cell_type": "markdown",
      "source": [
        "**Se puede observar que los resultados de las operaciones elementales entre renglones son las mismas al hacer uso de sympy y de las funciones creadas haciendo uso de los array**"
      ],
      "metadata": {
        "id": "0zflZBRuBFrO"
      }
    }
  ]
}