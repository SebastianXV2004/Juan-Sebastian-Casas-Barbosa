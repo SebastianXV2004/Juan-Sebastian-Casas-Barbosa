{
  "nbformat": 4,
  "nbformat_minor": 0,
  "metadata": {
    "colab": {
      "provenance": []
    },
    "kernelspec": {
      "name": "python3",
      "display_name": "Python 3"
    },
    "language_info": {
      "name": "python"
    }
  },
  "cells": [
    {
      "cell_type": "markdown",
      "source": [
        "Representacion de la matriz de 3x3 como un array A de 9 elementos"
      ],
      "metadata": {
        "id": "Wee1XakAzJVm"
      }
    },
    {
      "cell_type": "code",
      "source": [
        "from array import array\n",
        "import math\n",
        "\n",
        "def elem(A, i, j):\n",
        "    # Verifica que i y j estén en el rango correcto para una matriz 3x3\n",
        "    if i < 0 or i > 2 or j < 0 or j > 2:\n",
        "        raise ValueError(\"Las coordenadas están fuera de rango para una matriz 3x3\")\n",
        "\n",
        "    # Calcula el índice correspondiente en el array 1D\n",
        "    index = i * 3 + j\n",
        "\n",
        "    # Obtiene el elemento correspondiente del array\n",
        "    element = A[index]\n",
        "\n",
        "    # Maneja casos especiales para infinito y NaN\n",
        "    if math.isinf(element):\n",
        "        return float('inf')\n",
        "    elif math.isnan(element):\n",
        "        return float('nan')\n",
        "    else:\n",
        "        return element\n",
        "\n",
        "\n",
        "# Operaciones Entre Renglones\n",
        "def swap_rows(A, i, j):\n",
        "    # Intercambia los elementos de las filas i y j en la matriz 3x3 representada como array\n",
        "    for k in range(3):\n",
        "        A[i*3+k], A[j*3+k] = A[j*3+k], A[i*3+k]\n",
        "\n",
        "def scale_row(A, i, c):\n",
        "    # Multiplica todos los elementos de la fila i por c en la matriz 3x3 representada como array\n",
        "    for k in range(3):\n",
        "        A[i*3+k] *= c\n",
        "\n",
        "def add_scaled_row(A, i, j, c):\n",
        "    # Agrega a la fila i la fila j multiplicada por c en la matriz 3x3 representada como array\n",
        "    for k in range(3):\n",
        "        A[i*3+k] += A[j*3+k] * c\n",
        "\n",
        "# Array\n",
        "array('f', [1, 2, 3, 4, 5, 6, 7, 8, 9])\n",
        "array1 = array('f', [1, 2, 3, 4, 5, 6, 7, 8, 9])\n",
        "\n",
        "# Comprobacion Aplicando las operaciones elementales\n",
        "\n",
        "# Intercambiar filas 0 y 1\n",
        "swap_rows(array1, 0, 2)\n",
        "# Multiplicar fila 2 por 2\n",
        "scale_row(B, 2, 2)\n",
        "# Agregar a fila 1 la fila 0 multiplicada por -1\n",
        "add_scaled_row(B, 1, 0, -1)\n",
        "\n",
        "# Imprimir el resultado como un array de nueve elementos\n",
        "print(\"Resultado como array de nueve elementos:\")\n",
        "print(array1)\n"
      ],
      "metadata": {
        "colab": {
          "base_uri": "https://localhost:8080/"
        },
        "id": "gWXkXJro21hm",
        "outputId": "4caa76fe-d667-4095-deb1-cdfced533761"
      },
      "execution_count": 29,
      "outputs": [
        {
          "output_type": "stream",
          "name": "stdout",
          "text": [
            "Resultado como array de nueve elementos:\n",
            "array('f', [7.0, 8.0, 9.0, 4.0, 5.0, 6.0, 1.0, 2.0, 3.0])\n"
          ]
        }
      ]
    },
    {
      "cell_type": "markdown",
      "source": [
        "Operaciones con sympy"
      ],
      "metadata": {
        "id": "YNzIYpxS4UuN"
      }
    },
    {
      "cell_type": "code",
      "source": [
        "import sympy as sp\n",
        "\n",
        "# se define en la matriz `A`\n",
        "\n",
        "A = sp.Matrix([\n",
        "    [0, 1, 2, ],\n",
        "    [3, 4, 5],\n",
        "    [6, 7, 8]\n",
        "])\n",
        "\n",
        "A.row_swap(0,2)\n",
        "A\n"
      ],
      "metadata": {
        "colab": {
          "base_uri": "https://localhost:8080/",
          "height": 78
        },
        "id": "Dtv9Frm_6Cx9",
        "outputId": "2b2d5a34-ddce-403f-ab13-0b61a71a8a20"
      },
      "execution_count": 36,
      "outputs": [
        {
          "output_type": "execute_result",
          "data": {
            "text/plain": [
              "Matrix([\n",
              "[6, 7, 8],\n",
              "[3, 4, 5],\n",
              "[0, 1, 2]])"
            ],
            "text/latex": "$\\displaystyle \\left[\\begin{matrix}6 & 7 & 8\\\\3 & 4 & 5\\\\0 & 1 & 2\\end{matrix}\\right]$"
          },
          "metadata": {},
          "execution_count": 36
        }
      ]
    }
  ]
}